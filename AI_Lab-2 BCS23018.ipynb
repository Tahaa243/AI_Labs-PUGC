{
 "cells": [
  {
   "cell_type": "code",
   "execution_count": 1,
   "id": "aba714dc-a08e-4736-96a6-e09b6d02e471",
   "metadata": {},
   "outputs": [
    {
     "name": "stdout",
     "output_type": "stream",
     "text": [
      "Hello Greek\n",
      "Hello Greek\n",
      "Hello Greek\n"
     ]
    }
   ],
   "source": [
    "count=0\n",
    "while(count<3):\n",
    "    count=count+1\n",
    "    print(\"Hello Greek\")"
   ]
  },
  {
   "cell_type": "code",
   "execution_count": 3,
   "id": "d123fcce-c452-460c-a14b-68aaceb1ee4f",
   "metadata": {},
   "outputs": [
    {
     "name": "stdout",
     "output_type": "stream",
     "text": [
      "List Iteration: \n",
      "greeks\n",
      "for\n",
      "geeks\n"
     ]
    }
   ],
   "source": [
    "print(\"List Iteration: \")\n",
    "l=[\"greeks\",\"for\",\"geeks\"]\n",
    "for i in l:\n",
    "    print(i)"
   ]
  },
  {
   "cell_type": "code",
   "execution_count": 2,
   "id": "038e947b-c0ea-418b-820e-732517b182ef",
   "metadata": {},
   "outputs": [
    {
     "name": "stdout",
     "output_type": "stream",
     "text": [
      "Tuple Iteration\n",
      "geeks\n",
      "for\n",
      "geeks\n"
     ]
    }
   ],
   "source": [
    "print(\"Tuple Iteration\") \n",
    "t = (\"geeks\", \"for\", \"geeks\") \n",
    "for i in t: \n",
    "    print(i)"
   ]
  },
  {
   "cell_type": "code",
   "execution_count": 4,
   "id": "8925e66b-14d8-4c3f-95d7-5cbbcc94d038",
   "metadata": {},
   "outputs": [
    {
     "name": "stdout",
     "output_type": "stream",
     "text": [
      "String iteration\n",
      "G\n",
      "e\n",
      "e\n",
      "k\n",
      "s\n"
     ]
    }
   ],
   "source": [
    "print(\"String iteration\")\n",
    "s=\"Geeks\"\n",
    "for i in s:\n",
    "    print(i)"
   ]
  },
  {
   "cell_type": "code",
   "execution_count": 5,
   "id": "f1221a79-b44a-4103-91be-ec47c1403560",
   "metadata": {},
   "outputs": [
    {
     "name": "stdout",
     "output_type": "stream",
     "text": [
      "geeks\n",
      "for\n",
      "geeks\n"
     ]
    }
   ],
   "source": [
    "list = [\"geeks\", \"for\", \"geeks\"]\n",
    "for index in range(len(list)):\n",
    "    print(list[index])"
   ]
  },
  {
   "cell_type": "code",
   "execution_count": 11,
   "id": "dcfb5bed-c992-4819-a307-31dd03c4edc3",
   "metadata": {},
   "outputs": [
    {
     "name": "stdout",
     "output_type": "stream",
     "text": [
      "current letter:  g\n",
      "current letter:  r\n",
      "current letter:  e\n",
      "current letter:  e\n",
      "current letter:  k\n",
      "current letter:  o\n",
      "current letter:  r\n",
      "current letter:  g\n",
      "current letter:  e\n",
      "current letter:  e\n",
      "current letter:  k\n"
     ]
    }
   ],
   "source": [
    "for letter in \"greeksforgeeks\":\n",
    "    if letter=='s' or letter==\"f\":\n",
    "        continue\n",
    "    print( \"current letter: \",letter)"
   ]
  },
  {
   "cell_type": "code",
   "execution_count": 7,
   "id": "6ce898bc-49df-4d72-ba21-f003eecd9b96",
   "metadata": {},
   "outputs": [
    {
     "name": "stdout",
     "output_type": "stream",
     "text": [
      "current letter:  g\n",
      "current letter:  r\n"
     ]
    }
   ],
   "source": [
    "for letter in \"greeksforgeeks\":\n",
    "    if letter=='e' or letter==\"s\":\n",
    "        break\n",
    "    print( \"current letter: \",letter)"
   ]
  },
  {
   "cell_type": "code",
   "execution_count": 8,
   "id": "21b48681-5d0e-4a2f-9c0b-49ea6b58e8d9",
   "metadata": {},
   "outputs": [
    {
     "name": "stdout",
     "output_type": "stream",
     "text": [
      "Hello from function!\n"
     ]
    }
   ],
   "source": [
    "def my_function():\n",
    "    print(\"Hello from function!\")\n",
    "\n",
    "my_function()"
   ]
  },
  {
   "cell_type": "code",
   "execution_count": 9,
   "id": "3f4c5b8b-9a91-4af2-a58d-bdbbf3e258c4",
   "metadata": {},
   "outputs": [
    {
     "name": "stdout",
     "output_type": "stream",
     "text": [
      "Emil Refsnes\n",
      "Tobias Refsnes\n",
      "Linus Refsnes\n"
     ]
    }
   ],
   "source": [
    "def my_function(fname): \n",
    "    print(fname + \" Refsnes\")\n",
    "my_function(\"Emil\") \n",
    "my_function(\"Tobias\") \n",
    "my_function(\"Linus\")"
   ]
  },
  {
   "cell_type": "code",
   "execution_count": 10,
   "id": "9445589b-510c-4575-b8d9-7acb0e964b2c",
   "metadata": {},
   "outputs": [
    {
     "name": "stdout",
     "output_type": "stream",
     "text": [
      "I am from Norway\n",
      "I am from Sweden\n",
      "I am from India\n",
      "I am from Brazil\n"
     ]
    }
   ],
   "source": [
    "def my_function(country = \"Norway\"): \n",
    "    print(\"I am from \" + country)\n",
    "my_function()\n",
    "my_function(\"Sweden\")  \n",
    "my_function(\"India\")    \n",
    "my_function(\"Brazil\")"
   ]
  },
  {
   "cell_type": "code",
   "execution_count": 12,
   "id": "05973c35-3815-4f5d-a3d0-4fd750c73d84",
   "metadata": {},
   "outputs": [
    {
     "name": "stdout",
     "output_type": "stream",
     "text": [
      "apple\n",
      "banana\n",
      "cherry\n"
     ]
    }
   ],
   "source": [
    "def my_function(food): \n",
    "    for x in food: \n",
    "        print(x) \n",
    "        \n",
    "fruits = [\"apple\", \"banana\", \"cherry\"] \n",
    "\n",
    "my_function(fruits)"
   ]
  },
  {
   "cell_type": "code",
   "execution_count": 13,
   "id": "6c07bc99-82e7-4513-a014-c26b050d2f01",
   "metadata": {},
   "outputs": [
    {
     "name": "stdout",
     "output_type": "stream",
     "text": [
      "50\n",
      "100\n"
     ]
    }
   ],
   "source": [
    "def my_function(x):\n",
    "    return 5*x\n",
    "\n",
    "print(my_function(10))\n",
    "print(my_function(20))"
   ]
  },
  {
   "cell_type": "code",
   "execution_count": 14,
   "id": "8fea2073-17a9-4e43-b98f-4ecab02a1f5e",
   "metadata": {},
   "outputs": [
    {
     "name": "stdout",
     "output_type": "stream",
     "text": [
      "The youngest child is Linus\n"
     ]
    }
   ],
   "source": [
    "def my_function(child3, child2, child1): \n",
    "    print(\"The youngest child is \" + child3) \n",
    "my_function(child1 = \"Emil\", child2 = \"Tobias\", child3 = \"Linus\")"
   ]
  },
  {
   "cell_type": "code",
   "execution_count": 15,
   "id": "a11efacd-c5ec-4376-875e-f5a2001a0245",
   "metadata": {},
   "outputs": [
    {
     "name": "stdout",
     "output_type": "stream",
     "text": [
      "5\n"
     ]
    }
   ],
   "source": [
    "class MyClass: \n",
    "    x = 5 \n",
    "p1 = MyClass() \n",
    "print(p1.x)"
   ]
  },
  {
   "cell_type": "code",
   "execution_count": 16,
   "id": "31116d4d-89ea-447e-bdb4-f987855cba8c",
   "metadata": {},
   "outputs": [
    {
     "name": "stdout",
     "output_type": "stream",
     "text": [
      "John\n",
      "36\n"
     ]
    }
   ],
   "source": [
    "class Person: \n",
    "    def __init__ (self, name, age): \n",
    "        self.name = name \n",
    "        self.age = age \n",
    "    \n",
    "p1 = Person(\"John\", 36) \n",
    "print(p1.name) \n",
    "print(p1.age)"
   ]
  },
  {
   "cell_type": "code",
   "execution_count": 17,
   "id": "8912caa1-70d7-4b0d-830c-d011cb26f06e",
   "metadata": {},
   "outputs": [
    {
     "name": "stdout",
     "output_type": "stream",
     "text": [
      "Hello my name is John\n"
     ]
    }
   ],
   "source": [
    "class Person: \n",
    "    def __init__ (self, name, age): \n",
    "        self.name = name \n",
    "        self.age = age \n",
    "        \n",
    "    def myfunc(self): \n",
    "        print(\"Hello my name is \" + self.name) \n",
    "p1 = Person(\"John\", 36) \n",
    "p1.myfunc()"
   ]
  },
  {
   "cell_type": "code",
   "execution_count": null,
   "id": "23881212-5941-4eeb-a016-ddd2de2e92a6",
   "metadata": {},
   "outputs": [],
   "source": []
  }
 ],
 "metadata": {
  "kernelspec": {
   "display_name": "Python 3 (ipykernel)",
   "language": "python",
   "name": "python3"
  },
  "language_info": {
   "codemirror_mode": {
    "name": "ipython",
    "version": 3
   },
   "file_extension": ".py",
   "mimetype": "text/x-python",
   "name": "python",
   "nbconvert_exporter": "python",
   "pygments_lexer": "ipython3",
   "version": "3.13.2"
  }
 },
 "nbformat": 4,
 "nbformat_minor": 5
}
