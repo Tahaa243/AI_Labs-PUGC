{
 "cells": [
  {
   "cell_type": "code",
   "execution_count": 1,
   "id": "a6b8f8a6-f986-478d-80d8-0f21826cfc0a",
   "metadata": {},
   "outputs": [
    {
     "name": "stdout",
     "output_type": "stream",
     "text": [
      "Hello World\n"
     ]
    }
   ],
   "source": [
    "print(\"Hello World\")"
   ]
  },
  {
   "cell_type": "code",
   "execution_count": 3,
   "id": "3d494e43-e0c9-4c09-baf2-38b9db97d0fa",
   "metadata": {},
   "outputs": [
    {
     "name": "stdout",
     "output_type": "stream",
     "text": [
      "There are two comments\n"
     ]
    }
   ],
   "source": [
    "x = 1\n",
    "#initialization of x with 1\n",
    "if x > 0:\n",
    "    print(\"There are two comments\") #Print a string"
   ]
  },
  {
   "cell_type": "code",
   "execution_count": 5,
   "id": "107224b4-beca-4b12-b85b-d981a5be0dfd",
   "metadata": {},
   "outputs": [
    {
     "name": "stdin",
     "output_type": "stream",
     "text": [
      "Type something: Hello\n"
     ]
    },
    {
     "name": "stdout",
     "output_type": "stream",
     "text": [
      "Hello\n"
     ]
    }
   ],
   "source": [
    "txt = input(\"Type something:\")\n",
    "print(txt)"
   ]
  },
  {
   "cell_type": "code",
   "execution_count": 16,
   "id": "e9bdbd39-4c5d-4e23-ae5a-9cc550bfe847",
   "metadata": {},
   "outputs": [
    {
     "name": "stdout",
     "output_type": "stream",
     "text": [
      "Statement1\n",
      "Statement2\n",
      "Statement1\n",
      "Statement2\n"
     ]
    }
   ],
   "source": [
    "print(\"Statement1\")\n",
    "print(\"Statement2\")\n",
    "#You can type two statements in the following way\n",
    "print(\"Statement1\");print(\"Statement2\")"
   ]
  },
  {
   "cell_type": "code",
   "execution_count": 6,
   "id": "190b9edf-18d0-4ae4-ad9d-5128bbba5558",
   "metadata": {},
   "outputs": [
    {
     "ename": "IndentationError",
     "evalue": "expected an indented block after 'if' statement on line 2 (3184462978.py, line 3)",
     "output_type": "error",
     "traceback": [
      "  \u001b[36mCell\u001b[39m\u001b[36m \u001b[39m\u001b[32mIn[6]\u001b[39m\u001b[32m, line 3\u001b[39m\n\u001b[31m    \u001b[39m\u001b[31mprint(\"This will not run because of the indentation error\")\u001b[39m\n    ^\n\u001b[31mIndentationError\u001b[39m\u001b[31m:\u001b[39m expected an indented block after 'if' statement on line 2\n"
     ]
    }
   ],
   "source": [
    "x = 1\n",
    "if x > 0:\n",
    "print(\"This will not run because of the indentation error\")"
   ]
  },
  {
   "cell_type": "code",
   "execution_count": 7,
   "id": "10410cbd-8569-4975-9a08-45ce4aea04b2",
   "metadata": {},
   "outputs": [
    {
     "name": "stdout",
     "output_type": "stream",
     "text": [
      "Space indentation\n"
     ]
    }
   ],
   "source": [
    "x = 1\n",
    "if x > 0:\n",
    " print(\"Space indentation\")"
   ]
  },
  {
   "cell_type": "code",
   "execution_count": 15,
   "id": "e0649aac-28ff-484e-96a2-69dbafc97eb7",
   "metadata": {},
   "outputs": [
    {
     "name": "stdout",
     "output_type": "stream",
     "text": [
      "Tab indentation\n"
     ]
    }
   ],
   "source": [
    "x = 1\n",
    "if x > 0:\n",
    "    print(\"Tab indentation\")"
   ]
  },
  {
   "cell_type": "code",
   "execution_count": 14,
   "id": "0e3b260d-62dc-4293-8a6d-22c847115b56",
   "metadata": {},
   "outputs": [
    {
     "name": "stdout",
     "output_type": "stream",
     "text": [
      "Tab+Space indentation\n"
     ]
    }
   ],
   "source": [
    "x = 1\n",
    "if x > 0:\n",
    "     print(\"Tab+Space indentation\")"
   ]
  },
  {
   "cell_type": "code",
   "execution_count": 13,
   "id": "b402e743-bc55-45a6-9f6a-f1cf585be7e8",
   "metadata": {},
   "outputs": [
    {
     "name": "stdout",
     "output_type": "stream",
     "text": [
      "<class 'int'>\n",
      "<class 'float'>\n",
      "<class 'complex'>\n",
      "<class 'bool'>\n"
     ]
    }
   ],
   "source": [
    "a = 1\n",
    "b = 1.1\n",
    "c = 1 + 2j\n",
    "d = False\n",
    "\n",
    "print(type(a))\n",
    "print(type(b))\n",
    "print(type(c))\n",
    "print(type(d))"
   ]
  },
  {
   "cell_type": "code",
   "execution_count": 11,
   "id": "73097327-df7d-4fa1-8efe-51af3f92f7db",
   "metadata": {},
   "outputs": [
    {
     "name": "stdout",
     "output_type": "stream",
     "text": [
      "<class 'str'>\n",
      "<class 'str'>\n"
     ]
    }
   ],
   "source": [
    "str1 = \"Hello\"\n",
    "print(str)\n",
    "print(type(str1))"
   ]
  },
  {
   "cell_type": "code",
   "execution_count": 10,
   "id": "0094e6a8-ba47-44b0-873b-dc5531bd91b9",
   "metadata": {},
   "outputs": [
    {
     "name": "stdout",
     "output_type": "stream",
     "text": [
      "Backlash = \\\n",
      "Tab = \t\n",
      "Single quote = '\n",
      "Double quote = \"\n"
     ]
    }
   ],
   "source": [
    "#Special characters\n",
    "print(\"Backlash = \\\\\")\n",
    "print(\"Tab = \\t\")\n",
    "print(\"Single quote = \\'\")\n",
    "print(\"Double quote = \\\"\")"
   ]
  },
  {
   "cell_type": "code",
   "execution_count": 9,
   "id": "9d7c216a-2974-48b5-a599-ae5bb6e38160",
   "metadata": {},
   "outputs": [
    {
     "name": "stdout",
     "output_type": "stream",
     "text": [
      "P\n",
      "y\n",
      "t\n",
      "h\n",
      "l\n",
      "a\n"
     ]
    }
   ],
   "source": [
    "string1 = \"Python Tutorial\"\n",
    "print(string1[0])\n",
    "print(string1[1])\n",
    "print(string1[2])\n",
    "print(string1[3])\n",
    "print(string1[-1])\n",
    "print(string1[-2])"
   ]
  },
  {
   "cell_type": "code",
   "execution_count": 8,
   "id": "b99d4a93-5db8-460d-87f6-a2ec15afb329",
   "metadata": {},
   "outputs": [
    {
     "name": "stdout",
     "output_type": "stream",
     "text": [
      "[1, 2, 3, 4, 5]\n",
      "<class 'list'>\n",
      "[1.1, 2.2, 3.3, 4.4, 5.5]\n",
      "<class 'list'>\n",
      "[100, 'text', True]\n",
      "<class 'list'>\n"
     ]
    }
   ],
   "source": [
    "list1 = [1,2,3,4,5]\n",
    "list2 = [1.1,2.2,3.3,4.4,5.5]\n",
    "list3 = [100, \"text\", True]\n",
    "\n",
    "print(list1)\n",
    "print(type(list1))\n",
    "\n",
    "print(list2)\n",
    "print(type(list2))\n",
    "\n",
    "print(list3)\n",
    "print(type(list3))"
   ]
  },
  {
   "cell_type": "code",
   "execution_count": 9,
   "id": "6e23eee7-3cfc-4a3a-be76-f7b2a0bf1a66",
   "metadata": {},
   "outputs": [
    {
     "name": "stdout",
     "output_type": "stream",
     "text": [
      "2\n"
     ]
    }
   ],
   "source": [
    "print(list1[1])"
   ]
  },
  {
   "cell_type": "code",
   "execution_count": 10,
   "id": "de1f5e01-97ec-4c7b-ba41-dbb9e1b7feb0",
   "metadata": {},
   "outputs": [
    {
     "name": "stdout",
     "output_type": "stream",
     "text": [
      "[1, 2, 3]\n",
      "[3.3, 4.4]\n"
     ]
    }
   ],
   "source": [
    "print(list1[:3])\n",
    "print(list2[-3:-1])"
   ]
  }
 ],
 "metadata": {
  "kernelspec": {
   "display_name": "Python 3 (ipykernel)",
   "language": "python",
   "name": "python3"
  },
  "language_info": {
   "codemirror_mode": {
    "name": "ipython",
    "version": 3
   },
   "file_extension": ".py",
   "mimetype": "text/x-python",
   "name": "python",
   "nbconvert_exporter": "python",
   "pygments_lexer": "ipython3",
   "version": "3.13.2"
  }
 },
 "nbformat": 4,
 "nbformat_minor": 5
}
