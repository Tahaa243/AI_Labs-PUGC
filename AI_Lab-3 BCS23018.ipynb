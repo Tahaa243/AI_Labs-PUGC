{
 "cells": [
  {
   "cell_type": "code",
   "execution_count": 1,
   "id": "5856a807-a055-4556-8c24-45e509b69532",
   "metadata": {},
   "outputs": [
    {
     "name": "stdout",
     "output_type": "stream",
     "text": [
      "1505\n",
      "1540\n",
      "1575\n",
      "1610\n",
      "1645\n",
      "1680\n",
      "1715\n",
      "1750\n",
      "1785\n",
      "1820\n",
      "1855\n",
      "1890\n",
      "1925\n",
      "1960\n",
      "1995\n",
      "2030\n",
      "2065\n",
      "2100\n",
      "2135\n",
      "2170\n",
      "2205\n",
      "2240\n",
      "2275\n",
      "2310\n",
      "2345\n",
      "2380\n",
      "2415\n",
      "2450\n",
      "2485\n",
      "2520\n",
      "2555\n",
      "2590\n",
      "2625\n",
      "2660\n",
      "2695\n"
     ]
    }
   ],
   "source": [
    "for i in range(1500,2701):\n",
    "    if(i%7==0 and i%5==0):\n",
    "        print(i) "
   ]
  },
  {
   "cell_type": "code",
   "execution_count": 2,
   "id": "78507019-500b-4e73-96b8-0553ea084565",
   "metadata": {},
   "outputs": [
    {
     "name": "stdout",
     "output_type": "stream",
     "text": [
      "140.0f\n",
      "7.222222222222222c\n"
     ]
    }
   ],
   "source": [
    "def temperatureConverter(temp,unit):\n",
    "   result=0\n",
    "   if(unit=='c'):\n",
    "      result=((temp)*9/5)+32\n",
    "      print(str(result) +'f')\n",
    "   elif(unit=='f'):\n",
    "     result=(temp-32)*5/9\n",
    "     print(str(result) +'c') \n",
    "\n",
    "temperatureConverter(60,'c')\n",
    "temperatureConverter(45,'f')"
   ]
  },
  {
   "cell_type": "code",
   "execution_count": 3,
   "id": "e1e513e4-01be-4e93-a6e7-d5f3ed724702",
   "metadata": {},
   "outputs": [
    {
     "name": "stdin",
     "output_type": "stream",
     "text": [
      "Guess a number between 1 and 9 1\n"
     ]
    },
    {
     "name": "stdout",
     "output_type": "stream",
     "text": [
      "Wrong choice\n"
     ]
    },
    {
     "name": "stdin",
     "output_type": "stream",
     "text": [
      "Guess a number between 1 and 9 2\n"
     ]
    },
    {
     "name": "stdout",
     "output_type": "stream",
     "text": [
      "Wrong choice\n"
     ]
    },
    {
     "name": "stdin",
     "output_type": "stream",
     "text": [
      "Guess a number between 1 and 9 3\n"
     ]
    },
    {
     "name": "stdout",
     "output_type": "stream",
     "text": [
      "Wrong choice\n"
     ]
    },
    {
     "name": "stdin",
     "output_type": "stream",
     "text": [
      "Guess a number between 1 and 9 4\n"
     ]
    },
    {
     "name": "stdout",
     "output_type": "stream",
     "text": [
      "Wrong choice\n"
     ]
    },
    {
     "name": "stdin",
     "output_type": "stream",
     "text": [
      "Guess a number between 1 and 9 5\n"
     ]
    },
    {
     "name": "stdout",
     "output_type": "stream",
     "text": [
      "Well guessed\n",
      "\n"
     ]
    }
   ],
   "source": [
    "import random\n",
    "number = random.randint(1,9)\n",
    "while(True):\n",
    "   n= int(input(\"Guess a number between 1 and 9\"))\n",
    "   if(n==number):\n",
    "    print(\"Well guessed\\n\")\n",
    "    break\n",
    "   else:\n",
    "      print(\"Wrong choice\")"
   ]
  },
  {
   "cell_type": "code",
   "execution_count": 4,
   "id": "84e4f92c-9c7d-45b5-ad96-3a62201fa054",
   "metadata": {},
   "outputs": [
    {
     "name": "stdout",
     "output_type": "stream",
     "text": [
      "*\n",
      "**\n",
      "***\n",
      "****\n",
      "*****\n",
      "****\n",
      "***\n",
      "**\n",
      "*\n",
      "\n"
     ]
    }
   ],
   "source": [
    "n=5\n",
    "temp=1\n",
    "reachedmax=False\n",
    "for i in range(0,2*n):\n",
    "   for j in range(0,temp):\n",
    "      print(\"*\",end=\"\")\n",
    "   print(\"\")\n",
    "   if (temp<n and not reachedmax):\n",
    "      temp=temp+1\n",
    "   elif(temp==n and not reachedmax):\n",
    "      reachedmax=True\n",
    "      temp=temp-1\n",
    "   else:\n",
    "      temp=temp-1"
   ]
  },
  {
   "cell_type": "code",
   "execution_count": 5,
   "id": "c874aa2d-c276-49fd-a301-39c27e44c7c9",
   "metadata": {},
   "outputs": [
    {
     "name": "stdin",
     "output_type": "stream",
     "text": [
      "Enter a word and i will reverse it Taha\n"
     ]
    },
    {
     "name": "stdout",
     "output_type": "stream",
     "text": [
      "ahaT\n"
     ]
    }
   ],
   "source": [
    "word=input(\"Enter a word and i will reverse it\")\n",
    "reversed=word[::-1]\n",
    "print(reversed)"
   ]
  },
  {
   "cell_type": "code",
   "execution_count": 6,
   "id": "62be94f2-9363-4a29-a7f1-4a1535b3e0a2",
   "metadata": {},
   "outputs": [
    {
     "name": "stdout",
     "output_type": "stream",
     "text": [
      "Number of even numbers 3 \n",
      " Number of odd values 3\n"
     ]
    }
   ],
   "source": [
    "list1= [1,3,12,14,35,24]\n",
    "even=0\n",
    "odd=0\n",
    "for i in list1:\n",
    "   if(i%2==0):\n",
    "    even=even+1\n",
    "   else:\n",
    "      odd +=1\n",
    "print(\"Number of even numbers\",even,\"\\n Number of odd values\",odd)"
   ]
  },
  {
   "cell_type": "code",
   "execution_count": 7,
   "id": "d2aed5f9-ecbc-4b18-b324-64f0c75b3ec8",
   "metadata": {},
   "outputs": [
    {
     "name": "stdout",
     "output_type": "stream",
     "text": [
      "123   <class 'int'>\n",
      "1.24   <class 'float'>\n",
      "(1+2j)   <class 'complex'>\n",
      "True   <class 'bool'>\n",
      "Hello   <class 'str'>\n",
      "(2, 5)   <class 'tuple'>\n",
      "[2, 5]   <class 'list'>\n",
      "{'String': 1, 'Section': 2}   <class 'dict'>\n"
     ]
    }
   ],
   "source": [
    "list2=[123,1.24,1+2j,True,\"Hello\",(2,5),[2,5],{\"String\":1,\"Section\":2}]\n",
    "\n",
    "for i in list2:\n",
    "   print(i,\" \",type(i))"
   ]
  },
  {
   "cell_type": "code",
   "execution_count": 8,
   "id": "1a83a2bc-5f9f-4baa-b446-9a4eb52e7e4e",
   "metadata": {},
   "outputs": [
    {
     "name": "stdout",
     "output_type": "stream",
     "text": [
      "0 1 2 4 5 "
     ]
    }
   ],
   "source": [
    "for i in range(7):\n",
    "   if(i==3 or i==6):\n",
    "      continue\n",
    "   print(i,end=\" \")"
   ]
  },
  {
   "cell_type": "code",
   "execution_count": 9,
   "id": "9fc281c5-605c-4205-8322-1835874e6a07",
   "metadata": {},
   "outputs": [
    {
     "name": "stdout",
     "output_type": "stream",
     "text": [
      "0\n",
      "1\n",
      "1\n",
      "2\n",
      "3\n",
      "5\n",
      "8\n",
      "13\n",
      "21\n",
      "34\n"
     ]
    }
   ],
   "source": [
    "val1=0\n",
    "val2=1\n",
    "sum=0\n",
    "while(True):\n",
    "   print(sum)\n",
    "  \n",
    "   val1=val2\n",
    "   val2=sum\n",
    "   sum=val1+val2\n",
    "   if(sum>50):\n",
    "    break"
   ]
  },
  {
   "cell_type": "code",
   "execution_count": 10,
   "id": "c5385e34-e8d4-481d-91cd-296365acd399",
   "metadata": {},
   "outputs": [
    {
     "name": "stdout",
     "output_type": "stream",
     "text": [
      "1\n",
      "2\n",
      "Fizz\n",
      "4\n",
      "buzz\n",
      "Fizz\n",
      "7\n",
      "8\n",
      "Fizz\n",
      "buzz\n",
      "11\n",
      "Fizz\n",
      "13\n",
      "14\n",
      "fizzbuzz\n",
      "16\n",
      "17\n",
      "Fizz\n",
      "19\n",
      "buzz\n",
      "Fizz\n",
      "22\n",
      "23\n",
      "Fizz\n",
      "buzz\n",
      "26\n",
      "Fizz\n",
      "28\n",
      "29\n",
      "fizzbuzz\n",
      "31\n",
      "32\n",
      "Fizz\n",
      "34\n",
      "buzz\n",
      "Fizz\n",
      "37\n",
      "38\n",
      "Fizz\n",
      "buzz\n",
      "41\n",
      "Fizz\n",
      "43\n",
      "44\n",
      "fizzbuzz\n",
      "46\n",
      "47\n",
      "Fizz\n",
      "49\n",
      "buzz\n"
     ]
    }
   ],
   "source": [
    "for i in range(1,51):\n",
    "    if (i%3==0 and i%5==0):\n",
    "          print(\"fizzbuzz\")\n",
    "    elif i%3==0:\n",
    "        print(\"Fizz\")\n",
    "    elif i%5==0:\n",
    "        print(\"buzz\")\n",
    "    else:\n",
    "        print(i)"
   ]
  },
  {
   "cell_type": "code",
   "execution_count": 11,
   "id": "120e782e-35ce-414a-bc92-9dc78e4c381d",
   "metadata": {},
   "outputs": [
    {
     "name": "stdin",
     "output_type": "stream",
     "text": [
      "Enter the no. of rows:  3\n",
      "Enter the no. of columns:  3\n"
     ]
    },
    {
     "name": "stdout",
     "output_type": "stream",
     "text": [
      "[0, 0, 0]\n",
      "[0, 1, 2]\n",
      "[0, 2, 4]\n"
     ]
    }
   ],
   "source": [
    "rows=int(input(\"Enter the no. of rows: \"))\n",
    "cols=int(input(\"Enter the no. of columns: \"))\n",
    "\n",
    "arr = [[0] * cols for i in range(rows)]  \n",
    "\n",
    "for i in range(rows):\n",
    "    for j in range(cols):\n",
    "        arr[i][j]=i*j\n",
    "\n",
    "for i in arr:\n",
    "    print(i)"
   ]
  },
  {
   "cell_type": "code",
   "execution_count": 12,
   "id": "32ad6775-75f7-48ff-8c7e-62b756fe0492",
   "metadata": {},
   "outputs": [
    {
     "name": "stdin",
     "output_type": "stream",
     "text": [
      "Enter a line (blank line to stop):  I am Taha\n",
      "Enter a line (blank line to stop):  My father's name is tariq\n",
      "Enter a line (blank line to stop):  \n"
     ]
    },
    {
     "name": "stdout",
     "output_type": "stream",
     "text": [
      "OUTPUT: \n",
      "i am taha\n",
      "my father's name is tariq\n"
     ]
    }
   ],
   "source": [
    "lines=[]\n",
    "while True:\n",
    "    string=input(\"Enter a line (blank line to stop): \")\n",
    "    if string==\"\":\n",
    "        break\n",
    "    lines.append(string)\n",
    "\n",
    "print(\"OUTPUT: \")\n",
    "for line in lines:\n",
    "    print(line.lower())"
   ]
  },
  {
   "cell_type": "code",
   "execution_count": 13,
   "id": "92b0cec7-97e8-47d2-b0ac-0f7ebad980e9",
   "metadata": {},
   "outputs": [
    {
     "name": "stdin",
     "output_type": "stream",
     "text": [
      "Enter a sequence of 4 digit binary nums separated by commas:  0,0,1,0\n"
     ]
    },
    {
     "name": "stdout",
     "output_type": "stream",
     "text": [
      "OUTPUT: \n",
      "0 (0)\n",
      "0 (0)\n",
      "0 (0)\n"
     ]
    }
   ],
   "source": [
    "string=input(\"Enter a sequence of 4 digit binary nums separated by commas: \")\n",
    "list=string.split(\",\")\n",
    "print(\"OUTPUT: \")\n",
    "for binary_string in list:\n",
    "    decimal=int(binary_string,2)\n",
    "    if decimal%5==0:\n",
    "        print(f\"{binary_string} ({decimal})\")"
   ]
  },
  {
   "cell_type": "code",
   "execution_count": 14,
   "id": "e7164e7f-8d29-4586-a83a-9af306208dab",
   "metadata": {},
   "outputs": [
    {
     "name": "stdin",
     "output_type": "stream",
     "text": [
      "Enter a sequence of 4 digit binary nums separated by commas:  0000,0001,0010,0011\n"
     ]
    },
    {
     "name": "stdout",
     "output_type": "stream",
     "text": [
      "OUTPUT: \n",
      "0000 (0)\n"
     ]
    }
   ],
   "source": [
    "string=input(\"Enter a sequence of 4 digit binary nums separated by commas: \")\n",
    "list=string.split(\",\")\n",
    "print(\"OUTPUT: \")\n",
    "for binary_string in list:\n",
    "    decimal=int(binary_string,2)\n",
    "    if decimal%5==0:\n",
    "        print(f\"{binary_string} ({decimal})\")"
   ]
  },
  {
   "cell_type": "code",
   "execution_count": 15,
   "id": "e5597a92-606c-4a20-a4ca-c2e8cdb474bf",
   "metadata": {},
   "outputs": [
    {
     "name": "stdin",
     "output_type": "stream",
     "text": [
      "Enter a string and i will tell you the number of letters and digits it contains:  I am taha\n"
     ]
    },
    {
     "name": "stdout",
     "output_type": "stream",
     "text": [
      "Numbers of letters: 7\n",
      "Numbers of digits: 0\n"
     ]
    }
   ],
   "source": [
    "string=input(\"Enter a string and i will tell you the number of letters and digits it contains: \")\n",
    "digits=0\n",
    "letters=0\n",
    "for i in string:\n",
    "    if (ord(i)>=65 and ord(i)<=90) or (ord(i)>=97 and ord(i)<=122):\n",
    "        letters +=1\n",
    "    elif (ord(i)>=48 and ord(i)<=57):\n",
    "        digits +=1\n",
    "\n",
    "print(f\"Numbers of letters: {letters}\")\n",
    "print(f\"Numbers of digits: {digits}\")"
   ]
  },
  {
   "cell_type": "code",
   "execution_count": 16,
   "id": "369dfd48-e0a0-4ac8-8a14-fd536d856b8a",
   "metadata": {},
   "outputs": [
    {
     "name": "stdin",
     "output_type": "stream",
     "text": [
      "Enter your password:  Taha$0243\n"
     ]
    },
    {
     "name": "stdout",
     "output_type": "stream",
     "text": [
      "Valid Password\n"
     ]
    }
   ],
   "source": [
    "password = input(\"Enter your password: \")\n",
    "\n",
    "if len(password) < 6 or len(password) > 16:\n",
    "    print(\"Invalid Password: Length must be between 6 and 16 characters.\")\n",
    "elif not any(char.isupper() for char in password):\n",
    "    print(\"Invalid Password: Must contain at least one uppercase letter.\")\n",
    "elif not any(char.islower() for char in password):\n",
    "    print(\"Invalid Password: Must contain at least one lowercase letter.\")\n",
    "elif not any(char.isdigit() for char in password):\n",
    "    print(\"Invalid Password: Must contain at least one digit.\")\n",
    "elif not any(char in \"$#@\" for char in password):\n",
    "    print(\"Invalid Password: Must contain at least one special character ($, #, or @).\")\n",
    "else:\n",
    "    print(\"Valid Password\")"
   ]
  },
  {
   "cell_type": "code",
   "execution_count": null,
   "id": "1b232b25-1da3-42c5-a3a2-5d8bae4e7319",
   "metadata": {},
   "outputs": [],
   "source": []
  }
 ],
 "metadata": {
  "kernelspec": {
   "display_name": "Python 3 (ipykernel)",
   "language": "python",
   "name": "python3"
  },
  "language_info": {
   "codemirror_mode": {
    "name": "ipython",
    "version": 3
   },
   "file_extension": ".py",
   "mimetype": "text/x-python",
   "name": "python",
   "nbconvert_exporter": "python",
   "pygments_lexer": "ipython3",
   "version": "3.13.2"
  }
 },
 "nbformat": 4,
 "nbformat_minor": 5
}
